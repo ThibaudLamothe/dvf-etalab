{
 "cells": [
  {
   "cell_type": "code",
   "execution_count": 1,
   "metadata": {},
   "outputs": [],
   "source": [
    "import pandas as pd\n",
    "import numpy as np\n",
    "import string\n",
    "import os\n",
    "import seaborn as sns\n",
    "import json \n",
    "import matplotlib.pyplot as plt\n",
    "import functions as f"
   ]
  },
  {
   "cell_type": "code",
   "execution_count": null,
   "metadata": {},
   "outputs": [],
   "source": [
    "os.environ['DATA_PATH']='/Users/thibaud/Documents/data/'"
   ]
  },
  {
   "cell_type": "code",
   "execution_count": 2,
   "metadata": {},
   "outputs": [],
   "source": [
    "def load_dpt(dept_list, year_file='2018'):\n",
    "    print('> Loading...')\n",
    "    df_list = []\n",
    "    FOLDER = os.environ['DATA_PATH'] + 'DVF/data_per_dept'\n",
    "    for dept in dept_list:\n",
    "        print(' - Loading dept {}'.format(dept))\n",
    "        path = '{}/raw_{}/'.format(FOLDER, year_file)\n",
    "        dept_file_name = 'dept_{}.csv'.format(dept)\n",
    "        total_path = '{}{}'.format(path, dept_file_name)\n",
    "        df = pd.read_csv(total_path, low_memory=False)\n",
    "        df_list.append(df)\n",
    "    \n",
    "    print('> Concatenating...')\n",
    "    df = pd.concat(df_list)\n",
    "        \n",
    "    return df"
   ]
  },
  {
   "cell_type": "code",
   "execution_count": 3,
   "metadata": {},
   "outputs": [],
   "source": [
    "def cleaning(df, keeping_rate=0.66):\n",
    "    print('> Cleaning...')\n",
    "    empty_ser =  df.isnull().sum()\n",
    "    empty_max = df.shape[0]*keeping_rate\n",
    "    empty_cols = empty_ser[empty_ser > empty_max].index.tolist()\n",
    "\n",
    "    df_small = df.drop(empty_cols, axis=1)\n",
    "    df_small = df_small[df_small['Valeur fonciere'].isnull()==False]\n",
    "    df_small['Date mutation'] = pd.to_datetime(df_small['Date mutation'], errors='coerce')\n",
    "    df_small['Valeur fonciere'] = df_small['Valeur fonciere'].apply(lambda x: int(x.split(',')[0]))\n",
    "    df_small['No voie'] = df_small['No voie'].apply(lambda x : 0 if pd.isnull(x) else np.int(x))\n",
    "    print(' - Deleted : {} empty columns ({} % empty)'.format(len(empty_cols), int(keeping_rate*100)))\n",
    "    return df_small"
   ]
  },
  {
   "cell_type": "code",
   "execution_count": 6,
   "metadata": {},
   "outputs": [],
   "source": [
    "def save_clean(df, dept_number, year_file='2018'):\n",
    "    FOLDER = os.environ['DATA_PATH'] + 'DVF/data_per_dept'\n",
    "    path = '{}/processed_{}/dept_{}.csv'.format(FOLDER, year_file, dept_number)\n",
    "    df.to_csv(path, index=False)\n",
    "    return True"
   ]
  },
  {
   "cell_type": "code",
   "execution_count": 5,
   "metadata": {},
   "outputs": [],
   "source": [
    "def change_col_names(df):\n",
    "    df = (df.pipe(f.renameDfCol)\n",
    "          .rename(columns={'nombre_pieces_principales':'nb_piece',\n",
    "                        'surface_reelle_bati':'surface',\n",
    "                        'valeur_fonciere':'prix',\n",
    "                        'code_departement':'dept',\n",
    "                        'commune':'ville'}))\n",
    "    return df"
   ]
  },
  {
   "cell_type": "code",
   "execution_count": 7,
   "metadata": {},
   "outputs": [
    {
     "name": "stdout",
     "output_type": "stream",
     "text": [
      "> Loading...\n",
      " - Loading dept 75\n",
      "> Concatenating...\n",
      "> Cleaning...\n",
      " - Deleted : 21 empty columns (66 % empty)\n",
      "> Dept 75 correctly stored\n",
      "> Loading...\n",
      " - Loading dept 92\n",
      "> Concatenating...\n",
      "> Cleaning...\n",
      " - Deleted : 23 empty columns (66 % empty)\n",
      "> Dept 92 correctly stored\n"
     ]
    }
   ],
   "source": [
    "dept_list = ['33', '35', '44', '51']\n",
    "dept_list = ['75', '92']\n",
    "for dept in dept_list:\n",
    "    is_stored = (load_dpt([dept])\n",
    "                 .pipe(cleaning)\n",
    "                 .pipe(f.renameDfCol)\n",
    "                 .rename(columns={'nombre_pieces_principales':'nb_piece',\n",
    "                        'surface_reelle_bati':'surface',\n",
    "                        'valeur_fonciere':'prix',\n",
    "                        'code_departement':'dept',\n",
    "                        'commune':'ville'})\n",
    "                 .pipe(save_clean, dept)\n",
    "                )\n",
    "    if is_stored:\n",
    "        print('> Dept {} correctly stored'.format(dept))\n",
    "    \n",
    "    "
   ]
  },
  {
   "cell_type": "code",
   "execution_count": null,
   "metadata": {},
   "outputs": [],
   "source": []
  },
  {
   "cell_type": "code",
   "execution_count": null,
   "metadata": {},
   "outputs": [],
   "source": []
  }
 ],
 "metadata": {
  "kernelspec": {
   "display_name": "Python 3",
   "language": "python",
   "name": "python3"
  },
  "language_info": {
   "codemirror_mode": {
    "name": "ipython",
    "version": 3
   },
   "file_extension": ".py",
   "mimetype": "text/x-python",
   "name": "python",
   "nbconvert_exporter": "python",
   "pygments_lexer": "ipython3",
   "version": "3.7.3"
  }
 },
 "nbformat": 4,
 "nbformat_minor": 4
}
